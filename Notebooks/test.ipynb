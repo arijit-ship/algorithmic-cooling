{
 "cells": [
  {
   "cell_type": "code",
   "execution_count": 1,
   "metadata": {},
   "outputs": [],
   "source": [
    "from qutip import *\n",
    "import cmath\n",
    "import math\n",
    "import matplotlib.pyplot as plt\n",
    "import numpy as np"
   ]
  },
  {
   "cell_type": "code",
   "execution_count": 2,
   "metadata": {},
   "outputs": [],
   "source": [
    "nqubits = 3\n",
    "\n",
    "init = []\n",
    "for _ in range(nqubits):\n",
    "    init.append(basis(2,0))\n",
    "\n",
    "inital_state = tensor(init)"
   ]
  },
  {
   "cell_type": "code",
   "execution_count": 3,
   "metadata": {},
   "outputs": [
    {
     "data": {
      "text/latex": [
       "Quantum object: dims=[[2, 2, 2], [1, 1, 1]], shape=(8, 1), type='ket', dtype=Dense$$\\left(\\begin{array}{cc}1\\\\0\\\\0\\\\0\\\\0\\\\0\\\\0\\\\0\\end{array}\\right)$$"
      ],
      "text/plain": [
       "Quantum object: dims=[[2, 2, 2], [1, 1, 1]], shape=(8, 1), type='ket', dtype=Dense\n",
       "Qobj data =\n",
       "[[1.]\n",
       " [0.]\n",
       " [0.]\n",
       " [0.]\n",
       " [0.]\n",
       " [0.]\n",
       " [0.]\n",
       " [0.]]"
      ]
     },
     "execution_count": 3,
     "metadata": {},
     "output_type": "execute_result"
    }
   ],
   "source": [
    "inital_state"
   ]
  },
  {
   "cell_type": "code",
   "execution_count": 4,
   "metadata": {},
   "outputs": [],
   "source": [
    "# 2^n dim ideentity operator, n: number of qubits\n",
    "identity_list = []\n",
    "for _ in range(nqubits):\n",
    "    identity_list.append(qeye(2))\n",
    "Qeye = tensor(identity_list)"
   ]
  },
  {
   "cell_type": "code",
   "execution_count": 5,
   "metadata": {},
   "outputs": [
    {
     "data": {
      "text/latex": [
       "Quantum object: dims=[[2, 2, 2], [2, 2, 2]], shape=(8, 8), type='oper', dtype=Dia, isherm=True$$\\left(\\begin{array}{cc}1 & 0 & 0 & 0 & 0 & 0 & 0 & 0\\\\0 & 1 & 0 & 0 & 0 & 0 & 0 & 0\\\\0 & 0 & 1 & 0 & 0 & 0 & 0 & 0\\\\0 & 0 & 0 & 1 & 0 & 0 & 0 & 0\\\\0 & 0 & 0 & 0 & 1 & 0 & 0 & 0\\\\0 & 0 & 0 & 0 & 0 & 1 & 0 & 0\\\\0 & 0 & 0 & 0 & 0 & 0 & 1 & 0\\\\0 & 0 & 0 & 0 & 0 & 0 & 0 & 1\\end{array}\\right)$$"
      ],
      "text/plain": [
       "Quantum object: dims=[[2, 2, 2], [2, 2, 2]], shape=(8, 8), type='oper', dtype=Dia, isherm=True\n",
       "Qobj data =\n",
       "[[1. 0. 0. 0. 0. 0. 0. 0.]\n",
       " [0. 1. 0. 0. 0. 0. 0. 0.]\n",
       " [0. 0. 1. 0. 0. 0. 0. 0.]\n",
       " [0. 0. 0. 1. 0. 0. 0. 0.]\n",
       " [0. 0. 0. 0. 1. 0. 0. 0.]\n",
       " [0. 0. 0. 0. 0. 1. 0. 0.]\n",
       " [0. 0. 0. 0. 0. 0. 1. 0.]\n",
       " [0. 0. 0. 0. 0. 0. 0. 1.]]"
      ]
     },
     "execution_count": 5,
     "metadata": {},
     "output_type": "execute_result"
    }
   ],
   "source": [
    "Qeye"
   ]
  },
  {
   "cell_type": "code",
   "execution_count": 6,
   "metadata": {},
   "outputs": [],
   "source": [
    "# X, Y, Z operator\n",
    "\n",
    "def Xop(m: int, nqubits: int) -> object:\n",
    "    \"\"\"\n",
    "    Constructs the Pauli X operator acting on the m-th qubit \n",
    "    in a quantum system of n total qubits.\n",
    "\n",
    "    Args:\n",
    "        m (int): The index of the target qubit (0-based).\n",
    "        nqubits (int): The total number of qubits in the system.\n",
    "\n",
    "    Returns:\n",
    "        object: The tensor product operator with the Pauli X operator \n",
    "                applied to the m-th qubit and identity operators on \n",
    "                all other qubits.\n",
    "    \"\"\"\n",
    "\n",
    "    operators = []\n",
    "\n",
    "    for n in range(nqubits):\n",
    "        if n == m:\n",
    "            operators.append(sigmax())\n",
    "        else:\n",
    "            operators.append(qeye(2))\n",
    "\n",
    "    return tensor(operators)\n",
    "\n",
    "def Yop(m: int, nqubits: int) -> object:\n",
    "    \"\"\"\n",
    "    Constructs the Pauli Z operator acting on the m-th qubit \n",
    "    in a quantum system of n total qubits.\n",
    "\n",
    "    Args:\n",
    "        m (int): The index of the target qubit (0-based).\n",
    "        nqubits (int): The total number of qubits in the system.\n",
    "\n",
    "    Returns:\n",
    "        object: The tensor product operator with the Pauli X operator \n",
    "                applied to the m-th qubit and identity operators on \n",
    "                all other qubits.\n",
    "    \"\"\"\n",
    "\n",
    "    operators = []\n",
    "\n",
    "    for n in range(nqubits):\n",
    "        if n == m:\n",
    "            operators.append(sigmay())\n",
    "        else:\n",
    "            operators.append(qeye(2))\n",
    "\n",
    "    return tensor(operators)\n",
    "\n",
    "def Zop(m: int, nqubits: int) -> object:\n",
    "    \"\"\"\n",
    "    Constructs the Pauli Z operator acting on the m-th qubit \n",
    "    in a quantum system of n total qubits.\n",
    "\n",
    "    Args:\n",
    "        m (int): The index of the target qubit (0-based).\n",
    "        nqubits (int): The total number of qubits in the system.\n",
    "\n",
    "    Returns:\n",
    "        object: The tensor product operator with the Pauli X operator \n",
    "                applied to the m-th qubit and identity operators on \n",
    "                all other qubits.\n",
    "    \"\"\"\n",
    "\n",
    "    operators = []\n",
    "\n",
    "    for n in range(nqubits):\n",
    "        if n == m:\n",
    "            operators.append(sigmaz())\n",
    "        else:\n",
    "            operators.append(qeye(2))\n",
    "\n",
    "    return tensor(operators)\n",
    "    "
   ]
  },
  {
   "cell_type": "code",
   "execution_count": 7,
   "metadata": {},
   "outputs": [],
   "source": [
    "# Hamiltonian\n",
    "\n",
    "def construct_hami(nqubits:int, v: float, hx: float, hz: float) -> object:\n",
    "\n",
    "    hamiltonian = []\n",
    "    for n in range(nqubits-1):\n",
    "        hamiltonian.append(v/4 * Zop(n, nqubits)*Zop(n+1, nqubits))\n",
    "    for n in range(nqubits):\n",
    "        hamiltonian.append(hx * Xop(n, nqubits))\n",
    "        hamiltonian.append(hz * Zop(n, nqubits))\n",
    "    \n",
    "    # Initialize the Hamiltonian as a zero operator\n",
    "    Hamil = 0 * Zop(0, nqubits)\n",
    "\n",
    "    for term in hamiltonian:\n",
    "        Hamil += term\n",
    "    \n",
    "    return Hamil"
   ]
  },
  {
   "cell_type": "code",
   "execution_count": 8,
   "metadata": {},
   "outputs": [
    {
     "data": {
      "text/latex": [
       "Quantum object: dims=[[2, 2, 2], [2, 2, 2]], shape=(8, 8), type='oper', dtype=CSR, isherm=True$$\\left(\\begin{array}{cc}0.500 & 1 & 1 & 0 & 1 & 0 & 0 & 0\\\\1 & 0 & 0 & 1 & 0 & 1 & 0 & 0\\\\1 & 0 & -0.500 & 1 & 0 & 0 & 1 & 0\\\\0 & 1 & 1 & 0 & 0 & 0 & 0 & 1\\\\1 & 0 & 0 & 0 & 0 & 1 & 1 & 0\\\\0 & 1 & 0 & 0 & 1 & -0.500 & 0 & 1\\\\0 & 0 & 1 & 0 & 1 & 0 & 0 & 1\\\\0 & 0 & 0 & 1 & 0 & 1 & 1 & 0.500\\end{array}\\right)$$"
      ],
      "text/plain": [
       "Quantum object: dims=[[2, 2, 2], [2, 2, 2]], shape=(8, 8), type='oper', dtype=CSR, isherm=True\n",
       "Qobj data =\n",
       "[[ 0.5  1.   1.   0.   1.   0.   0.   0. ]\n",
       " [ 1.   0.   0.   1.   0.   1.   0.   0. ]\n",
       " [ 1.   0.  -0.5  1.   0.   0.   1.   0. ]\n",
       " [ 0.   1.   1.   0.   0.   0.   0.   1. ]\n",
       " [ 1.   0.   0.   0.   0.   1.   1.   0. ]\n",
       " [ 0.   1.   0.   0.   1.  -0.5  0.   1. ]\n",
       " [ 0.   0.   1.   0.   1.   0.   0.   1. ]\n",
       " [ 0.   0.   0.   1.   0.   1.   1.   0.5]]"
      ]
     },
     "execution_count": 8,
     "metadata": {},
     "output_type": "execute_result"
    }
   ],
   "source": [
    "hamiltonian = construct_hami(nqubits= nqubits, v=1.0, hx=1.0, hz=0)\n",
    "hamiltonian"
   ]
  },
  {
   "cell_type": "code",
   "execution_count": 17,
   "metadata": {},
   "outputs": [
    {
     "data": {
      "text/plain": [
       "qutip.core.qobj.Qobj"
      ]
     },
     "execution_count": 17,
     "metadata": {},
     "output_type": "execute_result"
    }
   ],
   "source": [
    "type(hamiltonian)"
   ]
  },
  {
   "cell_type": "code",
   "execution_count": 9,
   "metadata": {},
   "outputs": [
    {
     "data": {
      "text/plain": [
       "array([-3.03124812, -1.36815091, -1.        , -0.66309722,  0.66309722,\n",
       "        1.        ,  1.36815091,  3.03124812])"
      ]
     },
     "execution_count": 9,
     "metadata": {},
     "output_type": "execute_result"
    }
   ],
   "source": [
    "eigen_vals, eigen_vecs = hamiltonian.eigenstates()\n",
    "eigen_vals"
   ]
  },
  {
   "cell_type": "code",
   "execution_count": 10,
   "metadata": {},
   "outputs": [
    {
     "name": "stdout",
     "output_type": "stream",
     "text": [
      "The min eigen value is: -3.031248122331948\n"
     ]
    }
   ],
   "source": [
    "ground_state_energy = np.min(eigen_vals)\n",
    "print(f\"The min eigen value is: {ground_state_energy}\")"
   ]
  },
  {
   "cell_type": "code",
   "execution_count": 11,
   "metadata": {},
   "outputs": [],
   "source": [
    "def filter_function(a: float, t: float)->float:\n",
    "    return np.sqrt(a/np.pi) * np.exp(-a*t*t)"
   ]
  },
  {
   "cell_type": "code",
   "execution_count": 12,
   "metadata": {},
   "outputs": [],
   "source": [
    "def pauli_noise(rho: object, nqubits: int, px: float, py: float, pz: float) -> object:\n",
    "    \"\"\"\n",
    "    Applies Pauli noise to a quantum state (density matrix).\n",
    "\n",
    "    Parameters:\n",
    "    rho (object): Density matrix of the quantum state.\n",
    "    nqubits (int): Number of qubits in the system.\n",
    "    px (float): Probability of applying X (bit-flip) noise.\n",
    "    py (float): Probability of applying Y (bit-phase-flip) noise.\n",
    "    pz (float): Probability of applying Z (phase-flip) noise.\n",
    "\n",
    "    Returns:\n",
    "    object: Noisy density matrix.\n",
    "    \"\"\"\n",
    "    # Identity term (no noise)\n",
    "    rho_prime = (1 - px - py - pz) * rho\n",
    "\n",
    "    # Apply X noise to each qubit\n",
    "    for n in range(nqubits):\n",
    "        rho_prime += px * Xop(n, nqubits) * rho * Xop(n, nqubits).dag()\n",
    "\n",
    "    # Apply Y noise to each qubit\n",
    "    for n in range(nqubits):\n",
    "        rho_prime += py * Yop(n, nqubits) * rho * Yop(n, nqubits).dag()\n",
    "\n",
    "    # Apply Z noise to each qubit\n",
    "    for n in range(nqubits):\n",
    "        rho_prime += pz * Zop(n, nqubits) * rho * Zop(n, nqubits).dag()\n",
    "\n",
    "    return rho_prime\n"
   ]
  },
  {
   "cell_type": "code",
   "execution_count": 18,
   "metadata": {},
   "outputs": [],
   "source": [
    "def trotter(hamiltonian: object, time: float, steps: int) -> object:\n",
    "\n",
    "    trotter_term = Qeye\n",
    "    \n",
    "    for n in range(len(hamiltonian)):\n",
    "        trotter_term = trotter_term * (-1j * hamiltonian[n]*t/steps).exmp()\n",
    "\n",
    "    \n",
    "    trotter_hamiltonian = trotter_term**steps\n",
    "\n",
    "    return trotter_hamiltonian\n",
    "\n",
    "\n",
    "def control_unitary(hamiltonian: object, time: float) -> object:\n",
    "\n",
    "    u_gate = (-1j*hamiltonian*time).expm()\n",
    "\n",
    "    control_u_gate = tensor(basis(2,0)*basis(2,0).dag(), Qeye) + tensor(basis(2,1)*basis(2,1).dag(), u_gate)\n",
    "\n",
    "    return control_u_gate\n",
    "\n",
    "def control_trotter(hamiltonian: object, time: float, steps: int) -> object:\n",
    "\n",
    "    trotter_hamiltonian = trotter(hamiltonian, time, steps)\n",
    "\n",
    "    control_trotter = tensor(basis(2,0)*basis(2,0).dag(), Qeye) + tensor( basis(2,1)* basis(2,1).dag, trotter_hamiltonian)\n",
    "\n",
    "\n",
    "def ising_trotter(nqubits: int,\n",
    "                  rho: object,\n",
    "                  steps: int,\n",
    "                  time: float,\n",
    "                  v: float,\n",
    "                  h: float,\n",
    "                  px: float,\n",
    "                  py: float,\n",
    "                  pz: float\n",
    "                ) -> object:\n",
    "    \n",
    "\n",
    "    state = rho\n",
    "\n",
    "    for n in range(num - 1):\n",
    "\n",
    "        ctrl_uni = tensor(basis(2,0)*basis(2,0).dag(), Qeye()) + tensor(basis(2,1)*basis(2,1).dag(), (-1j * (v/4) * Zop(n, nqubits) * Zop(n+1, nqubits) * time/steps ).exmp())\n",
    "\n",
    "        state = ctrl_uni * state * ctrl_uni.dag()\n",
    "\n",
    "        noisy_state = pauli_noise(state, nqubits, px, py, pz)\n",
    "    \n",
    "    for n in range(nqubits):\n",
    "\n",
    "        ctrl_uni = tensor(basis(2,0)*basis(2,0).dag(), Qeye()) + tensor(basis(2,1)*basis(2,1).dag(), (-1j * (h) * Xop(n, nqubits) * time/steps ).exmp())\n",
    " \n",
    "        noisy_state = ctrl_uni * noisy_state * ctrl_uni.dag()\n",
    "\n",
    "    return state"
   ]
  },
  {
   "cell_type": "code",
   "execution_count": 21,
   "metadata": {},
   "outputs": [],
   "source": [
    "import random\n",
    "def hadamard_test(nqubits: int,\n",
    "                  delt: float,\n",
    "                  steps: int,\n",
    "                  tw: float,\n",
    "                  shots: int,\n",
    "                  px: float,\n",
    "                  py: float,\n",
    "                  pz: float) -> object:\n",
    "    \n",
    "    # Ancilla state\n",
    "    ancilla_state = (1/np.sqrt(2)) * (basis(2,0)+basis(2,1))\n",
    "    ancilla_state_dm = ket2dm(ancilla_state)\n",
    "\n",
    "    # System state\n",
    "    sys_init_state_dm = init\n",
    "\n",
    "    # Tensor product state of ancilla and system\n",
    "    prod_state = tensor(ancilla_state_dm, ket2dm(sys_init_state_dm))\n",
    "\n",
    "    time = []\n",
    "\n",
    "    EX, EY = [], []\n",
    "\n",
    "    for t in range(-tw, tw + 1):\n",
    "        t1 = delt*t\n",
    "        time.append(t1)\n",
    "\n",
    "        state = prod_state\n",
    "\n",
    "        for _ in range(steps):\n",
    "            state = ising_trotter(nqubits, state, steps, t1, 1, 0, 0, 0, 0)\n",
    "\n",
    "        expectX = (tensor(sigmax, Qeye) * state).tr()\n",
    "        expectY = (tensor(sigmay, Qeye) * state).tr()\n",
    "\n",
    "        varx = 1 - expectX**2\n",
    "        vary = 1 - expectY**2\n",
    "\n",
    "        randx = random.gauss(mu=expectX, sigma=np.sqrt(varx / shots))\n",
    "        randy = random.gauss(mu=expectY, sigma=np.sqrt(vary / shots))\n",
    "\n",
    "        EX.append(randx)\n",
    "        EY.append(randy)\n",
    "\n",
    "        # Sweep energy\n",
    "        a = 0.001\n",
    "        delE = 0.1\n",
    "        Range = 100\n",
    "        Val,  Energy = [], []\n",
    "\n",
    "\n",
    "\n"
   ]
  },
  {
   "cell_type": "code",
   "execution_count": null,
   "metadata": {},
   "outputs": [],
   "source": []
  }
 ],
 "metadata": {
  "kernelspec": {
   "display_name": ".env",
   "language": "python",
   "name": "python3"
  },
  "language_info": {
   "codemirror_mode": {
    "name": "ipython",
    "version": 3
   },
   "file_extension": ".py",
   "mimetype": "text/x-python",
   "name": "python",
   "nbconvert_exporter": "python",
   "pygments_lexer": "ipython3",
   "version": "3.11.0"
  }
 },
 "nbformat": 4,
 "nbformat_minor": 2
}
