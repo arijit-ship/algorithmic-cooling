{
 "cells": [
  {
   "cell_type": "code",
   "execution_count": 2,
   "metadata": {},
   "outputs": [],
   "source": [
    "from qutip import *\n",
    "import cmath\n",
    "import math\n",
    "import matplotlib.pyplot as plt\n",
    "import numpy as np"
   ]
  },
  {
   "cell_type": "code",
   "execution_count": 17,
   "metadata": {},
   "outputs": [],
   "source": [
    "nqubits = 3\n",
    "\n",
    "init = []\n",
    "for _ in range(nqubit):\n",
    "    init.append(basis(2,0))\n",
    "\n",
    "inital_state = tensor(init)"
   ]
  },
  {
   "cell_type": "code",
   "execution_count": 18,
   "metadata": {},
   "outputs": [
    {
     "data": {
      "text/latex": [
       "Quantum object: dims=[[2, 2, 2], [1, 1, 1]], shape=(8, 1), type='ket', dtype=Dense$$\\left(\\begin{array}{cc}1\\\\0\\\\0\\\\0\\\\0\\\\0\\\\0\\\\0\\end{array}\\right)$$"
      ],
      "text/plain": [
       "Quantum object: dims=[[2, 2, 2], [1, 1, 1]], shape=(8, 1), type='ket', dtype=Dense\n",
       "Qobj data =\n",
       "[[1.]\n",
       " [0.]\n",
       " [0.]\n",
       " [0.]\n",
       " [0.]\n",
       " [0.]\n",
       " [0.]\n",
       " [0.]]"
      ]
     },
     "execution_count": 18,
     "metadata": {},
     "output_type": "execute_result"
    }
   ],
   "source": [
    "inital_state"
   ]
  },
  {
   "cell_type": "code",
   "execution_count": 19,
   "metadata": {},
   "outputs": [],
   "source": [
    "# 2^n dim ideentity operator, n: number of qubits\n",
    "identity_list = []\n",
    "for _ in range(nqubit):\n",
    "    identity_list.append(qeye(2))\n",
    "Qeye = tensor(identity_list)"
   ]
  },
  {
   "cell_type": "code",
   "execution_count": 20,
   "metadata": {},
   "outputs": [
    {
     "data": {
      "text/latex": [
       "Quantum object: dims=[[2, 2, 2], [2, 2, 2]], shape=(8, 8), type='oper', dtype=Dia, isherm=True$$\\left(\\begin{array}{cc}1 & 0 & 0 & 0 & 0 & 0 & 0 & 0\\\\0 & 1 & 0 & 0 & 0 & 0 & 0 & 0\\\\0 & 0 & 1 & 0 & 0 & 0 & 0 & 0\\\\0 & 0 & 0 & 1 & 0 & 0 & 0 & 0\\\\0 & 0 & 0 & 0 & 1 & 0 & 0 & 0\\\\0 & 0 & 0 & 0 & 0 & 1 & 0 & 0\\\\0 & 0 & 0 & 0 & 0 & 0 & 1 & 0\\\\0 & 0 & 0 & 0 & 0 & 0 & 0 & 1\\end{array}\\right)$$"
      ],
      "text/plain": [
       "Quantum object: dims=[[2, 2, 2], [2, 2, 2]], shape=(8, 8), type='oper', dtype=Dia, isherm=True\n",
       "Qobj data =\n",
       "[[1. 0. 0. 0. 0. 0. 0. 0.]\n",
       " [0. 1. 0. 0. 0. 0. 0. 0.]\n",
       " [0. 0. 1. 0. 0. 0. 0. 0.]\n",
       " [0. 0. 0. 1. 0. 0. 0. 0.]\n",
       " [0. 0. 0. 0. 1. 0. 0. 0.]\n",
       " [0. 0. 0. 0. 0. 1. 0. 0.]\n",
       " [0. 0. 0. 0. 0. 0. 1. 0.]\n",
       " [0. 0. 0. 0. 0. 0. 0. 1.]]"
      ]
     },
     "execution_count": 20,
     "metadata": {},
     "output_type": "execute_result"
    }
   ],
   "source": [
    "Qeye"
   ]
  },
  {
   "cell_type": "code",
   "execution_count": 21,
   "metadata": {},
   "outputs": [],
   "source": [
    "# X, Y, Z operator\n",
    "\n",
    "def Xop(m: int, nqubits: int) -> object:\n",
    "    \"\"\"\n",
    "    Constructs the Pauli X operator acting on the m-th qubit \n",
    "    in a quantum system of n total qubits.\n",
    "\n",
    "    Args:\n",
    "        m (int): The index of the target qubit (0-based).\n",
    "        nqubits (int): The total number of qubits in the system.\n",
    "\n",
    "    Returns:\n",
    "        object: The tensor product operator with the Pauli X operator \n",
    "                applied to the m-th qubit and identity operators on \n",
    "                all other qubits.\n",
    "    \"\"\"\n",
    "\n",
    "    operators = []\n",
    "\n",
    "    for n in range(nqubits):\n",
    "        if n == m:\n",
    "            operators.append(sigmax())\n",
    "        else:\n",
    "            operators.append(qeye(2))\n",
    "\n",
    "    return tensor(operators)\n",
    "\n",
    "def Yop(m: int, nqubits: int) -> object:\n",
    "    \"\"\"\n",
    "    Constructs the Pauli Z operator acting on the m-th qubit \n",
    "    in a quantum system of n total qubits.\n",
    "\n",
    "    Args:\n",
    "        m (int): The index of the target qubit (0-based).\n",
    "        nqubits (int): The total number of qubits in the system.\n",
    "\n",
    "    Returns:\n",
    "        object: The tensor product operator with the Pauli X operator \n",
    "                applied to the m-th qubit and identity operators on \n",
    "                all other qubits.\n",
    "    \"\"\"\n",
    "\n",
    "    operators = []\n",
    "\n",
    "    for n in range(nqubits):\n",
    "        if n == m:\n",
    "            operators.append(sigmaz())\n",
    "        else:\n",
    "            operators.append(qeye(2))\n",
    "\n",
    "    return tensor(operators)\n",
    "\n",
    "def Zop(m: int, nqubits: int) -> object:\n",
    "    \"\"\"\n",
    "    Constructs the Pauli Z operator acting on the m-th qubit \n",
    "    in a quantum system of n total qubits.\n",
    "\n",
    "    Args:\n",
    "        m (int): The index of the target qubit (0-based).\n",
    "        nqubits (int): The total number of qubits in the system.\n",
    "\n",
    "    Returns:\n",
    "        object: The tensor product operator with the Pauli X operator \n",
    "                applied to the m-th qubit and identity operators on \n",
    "                all other qubits.\n",
    "    \"\"\"\n",
    "\n",
    "    operators = []\n",
    "\n",
    "    for n in range(nqubits):\n",
    "        if n == m:\n",
    "            operators.append(sigmaz())\n",
    "        else:\n",
    "            operators.append(qeye(2))\n",
    "\n",
    "    return tensor(operators)\n",
    "    "
   ]
  },
  {
   "cell_type": "code",
   "execution_count": 25,
   "metadata": {},
   "outputs": [],
   "source": [
    "# Hamiltonian\n",
    "\n",
    "def construct_hami(nqubits:int, v: float, hx: float, hz: float) -> object:\n",
    "\n",
    "    hamiltonian = []\n",
    "    for n in range(nqubits-1):\n",
    "        hamiltonian.append(v/4 * Zop(n, nqubit)*Zop(n+1, nqubits))\n",
    "    for n in range(nqubits):\n",
    "        hamiltonian.append(hx * Xop(n, nqubits)*Xop(n, nqubits))\n",
    "        hamiltonian.append(hz * Zop(n, nqubits)*Zop(n, nqubits))\n",
    "    \n",
    "    # Initialize the Hamiltonian as a zero operator\n",
    "    Hamil = 0 * Zop(0, nqubits)\n",
    "\n",
    "    for term in hamiltonian:\n",
    "        Hamil += term\n",
    "    \n",
    "    return Hamil"
   ]
  },
  {
   "cell_type": "code",
   "execution_count": null,
   "metadata": {},
   "outputs": [],
   "source": []
  }
 ],
 "metadata": {
  "kernelspec": {
   "display_name": ".env",
   "language": "python",
   "name": "python3"
  },
  "language_info": {
   "codemirror_mode": {
    "name": "ipython",
    "version": 3
   },
   "file_extension": ".py",
   "mimetype": "text/x-python",
   "name": "python",
   "nbconvert_exporter": "python",
   "pygments_lexer": "ipython3",
   "version": "3.11.0"
  }
 },
 "nbformat": 4,
 "nbformat_minor": 2
}
