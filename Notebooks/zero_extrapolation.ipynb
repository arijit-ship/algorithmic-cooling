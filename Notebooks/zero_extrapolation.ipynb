{
 "cells": [
  {
   "cell_type": "code",
   "execution_count": 4,
   "metadata": {},
   "outputs": [],
   "source": [
    "import numpy as np\n",
    "from sklearn.preprocessing import PolynomialFeatures\n",
    "from sklearn.linear_model import LinearRegression\n",
    "\n",
    "def extrapolate_zero(x_data, y_data, degree):\n",
    "    # Reshape x_data to 2D if it's 1D\n",
    "    x_data = np.array(x_data).reshape(-1, 1)\n",
    "    y_data = np.array(y_data)\n",
    "    \n",
    "    # Create polynomial features\n",
    "    poly = PolynomialFeatures(degree=degree)\n",
    "    x_poly = poly.fit_transform(x_data)\n",
    "    \n",
    "    # Fit the model\n",
    "    model = LinearRegression()\n",
    "    model.fit(x_poly, y_data)\n",
    "    \n",
    "    # Predict the y-value at x = 0\n",
    "    x_zero = np.array([[0]])\n",
    "    x_zero_poly = poly.transform(x_zero)\n",
    "    \n",
    "    y_zero = model.predict(x_zero_poly)\n",
    "    \n",
    "    return y_zero[0]\n"
   ]
  },
  {
   "cell_type": "code",
   "execution_count": 6,
   "metadata": {},
   "outputs": [],
   "source": [
    "noise = [\n",
    "    0.01, 0.02, 0.03\n",
    "]\n",
    "\n",
    "energy = [\n",
    "    -3.1, -3.0, -2.9\n",
    "]"
   ]
  },
  {
   "cell_type": "code",
   "execution_count": 7,
   "metadata": {},
   "outputs": [
    {
     "data": {
      "text/plain": [
       "-3.2"
      ]
     },
     "execution_count": 7,
     "metadata": {},
     "output_type": "execute_result"
    }
   ],
   "source": [
    "extrapolate_zero(noise, energy, 1)"
   ]
  },
  {
   "cell_type": "code",
   "execution_count": 8,
   "metadata": {},
   "outputs": [
    {
     "data": {
      "text/plain": [
       "-3.0"
      ]
     },
     "execution_count": 8,
     "metadata": {},
     "output_type": "execute_result"
    }
   ],
   "source": [
    "energy2 = [\n",
    "    -3.0, -3.0, -3.0\n",
    "]\n",
    "extrapolate_zero(noise, energy2, 1)"
   ]
  },
  {
   "cell_type": "code",
   "execution_count": null,
   "metadata": {},
   "outputs": [],
   "source": []
  }
 ],
 "metadata": {
  "kernelspec": {
   "display_name": ".env",
   "language": "python",
   "name": "python3"
  },
  "language_info": {
   "codemirror_mode": {
    "name": "ipython",
    "version": 3
   },
   "file_extension": ".py",
   "mimetype": "text/x-python",
   "name": "python",
   "nbconvert_exporter": "python",
   "pygments_lexer": "ipython3",
   "version": "3.11.0"
  }
 },
 "nbformat": 4,
 "nbformat_minor": 2
}
