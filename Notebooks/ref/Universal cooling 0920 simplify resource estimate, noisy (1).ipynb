{
 "cells": [
  {
   "cell_type": "code",
   "execution_count": 188,
   "metadata": {},
   "outputs": [
    {
     "name": "stdout",
     "output_type": "stream",
     "text": [
      "Populating the interactive namespace from numpy and matplotlib\n"
     ]
    }
   ],
   "source": [
    "#%matplotlib inline\n",
    "%pylab inline\n",
    "import matplotlib.pyplot as plt\n",
    "import numpy as np"
   ]
  },
  {
   "cell_type": "code",
   "execution_count": 42,
   "metadata": {},
   "outputs": [],
   "source": [
    "from qutip import *\n",
    "import cmath\n",
    "import math"
   ]
  },
  {
   "cell_type": "code",
   "execution_count": 204,
   "metadata": {},
   "outputs": [],
   "source": [
    "# Qubit number\n",
    "\n",
    "Num=3"
   ]
  },
  {
   "cell_type": "code",
   "execution_count": 205,
   "metadata": {},
   "outputs": [],
   "source": [
    "init=[]\n",
    "\n",
    "for n in range(Num):\n",
    "    init.append(basis(2,0))\n",
    "    \n",
    "init=tensor(init)"
   ]
  },
  {
   "cell_type": "code",
   "execution_count": null,
   "metadata": {},
   "outputs": [],
   "source": []
  },
  {
   "cell_type": "code",
   "execution_count": 206,
   "metadata": {},
   "outputs": [],
   "source": [
    "Qeye=[]\n",
    "\n",
    "for n in range(Num):\n",
    "    Qeye.append(qeye(2))\n",
    "    \n",
    "Qeye=tensor(Qeye)"
   ]
  },
  {
   "cell_type": "code",
   "execution_count": 207,
   "metadata": {},
   "outputs": [],
   "source": [
    "def Xop(m): \n",
    "    \n",
    "    X=[]\n",
    "    for n in range(Num):\n",
    "        \n",
    "        if n==m:\n",
    "            X.append(sigmax())\n",
    "        else: \n",
    "            X.append(qeye(2))\n",
    "    X=tensor(X)\n",
    "    \n",
    "    return X"
   ]
  },
  {
   "cell_type": "code",
   "execution_count": 208,
   "metadata": {},
   "outputs": [],
   "source": [
    "def Yop(m): \n",
    "    \n",
    "    X=[]\n",
    "    for n in range(Num):\n",
    "        \n",
    "        if n==m:\n",
    "            X.append(sigmay())\n",
    "        else: \n",
    "            X.append(qeye(2))\n",
    "    X=tensor(X)\n",
    "    \n",
    "    return X"
   ]
  },
  {
   "cell_type": "code",
   "execution_count": 209,
   "metadata": {},
   "outputs": [],
   "source": [
    "def Zop(m): \n",
    "    \n",
    "    X=[]\n",
    "    for n in range(Num):\n",
    "        \n",
    "        if n==m:\n",
    "            X.append(sigmaz())\n",
    "        else: \n",
    "            X.append(qeye(2))\n",
    "    X=tensor(X)\n",
    "    \n",
    "    return X"
   ]
  },
  {
   "cell_type": "code",
   "execution_count": 210,
   "metadata": {},
   "outputs": [],
   "source": [
    "def Xop2(m): \n",
    "    \n",
    "    X=[]\n",
    "    for n in range(Num+1):\n",
    "        \n",
    "        if n==m:\n",
    "            X.append(sigmax())\n",
    "        else: \n",
    "            X.append(qeye(2))\n",
    "    X=tensor(X)\n",
    "    \n",
    "    return X"
   ]
  },
  {
   "cell_type": "code",
   "execution_count": 211,
   "metadata": {},
   "outputs": [],
   "source": [
    "def Yop2(m): \n",
    "    \n",
    "    X=[]\n",
    "    for n in range(Num+1):\n",
    "        \n",
    "        if n==m:\n",
    "            X.append(sigmay())\n",
    "        else: \n",
    "            X.append(qeye(2))\n",
    "    X=tensor(X)\n",
    "    \n",
    "    return X"
   ]
  },
  {
   "cell_type": "code",
   "execution_count": 212,
   "metadata": {},
   "outputs": [],
   "source": [
    "def Zop2(m): \n",
    "    \n",
    "    X=[]\n",
    "    for n in range(Num+1):\n",
    "        \n",
    "        if n==m:\n",
    "            X.append(sigmaz())\n",
    "        else: \n",
    "            X.append(qeye(2))\n",
    "    X=tensor(X)\n",
    "    \n",
    "    return X"
   ]
  },
  {
   "cell_type": "code",
   "execution_count": 213,
   "metadata": {},
   "outputs": [],
   "source": [
    "Hamset=[]\n",
    "\n",
    "V=1.0 \n",
    "\n",
    "hx=1.0 \n",
    "\n",
    "hz=0\n",
    "\n",
    "for n in range(Num-1):\n",
    "    \n",
    "    Hamset.append( V/4* Zop(n)*Zop(n+1) )\n",
    "    \n",
    "for n in range(Num):\n",
    "    \n",
    "    Hamset.append(hx*Xop(n))\n",
    "    \n",
    "    Hamset.append(hz*Zop(n))\n",
    "    \n"
   ]
  },
  {
   "cell_type": "code",
   "execution_count": 214,
   "metadata": {},
   "outputs": [],
   "source": [
    "Hamil= 0* Zop(0)\n",
    "\n",
    "for n in range(len(Hamset)):\n",
    "    Hamil=Hamil+Hamset[n]"
   ]
  },
  {
   "cell_type": "code",
   "execution_count": 215,
   "metadata": {},
   "outputs": [],
   "source": [
    "Hamil=Hamil"
   ]
  },
  {
   "cell_type": "code",
   "execution_count": 216,
   "metadata": {},
   "outputs": [],
   "source": [
    "eigvals, eigvecs= Hamil.eigenstates()"
   ]
  },
  {
   "cell_type": "code",
   "execution_count": 217,
   "metadata": {},
   "outputs": [
    {
     "data": {
      "text/plain": [
       "array([-3.03124812, -1.36815091, -1.        , -0.66309722,  0.66309722,\n",
       "        1.        ,  1.36815091,  3.03124812])"
      ]
     },
     "execution_count": 217,
     "metadata": {},
     "output_type": "execute_result"
    }
   ],
   "source": [
    "eigvals"
   ]
  },
  {
   "cell_type": "code",
   "execution_count": 218,
   "metadata": {},
   "outputs": [],
   "source": [
    "def fil(a,x):\n",
    "    return sqrt(a/pi)*exp(-a*x**2)"
   ]
  },
  {
   "cell_type": "code",
   "execution_count": 219,
   "metadata": {},
   "outputs": [],
   "source": [
    "anc=(basis(2,0)+basis(2,1))/sqrt(2)"
   ]
  },
  {
   "cell_type": "code",
   "execution_count": 220,
   "metadata": {},
   "outputs": [],
   "source": [
    "plus=(basis(2,0)+basis(2,1))/sqrt(2)"
   ]
  },
  {
   "cell_type": "code",
   "execution_count": 221,
   "metadata": {},
   "outputs": [],
   "source": [
    "def Depolarise(rho,n,p):\n",
    "    \n",
    "    rho=(1.0-p)*rho+(p/3.0)*(Xop(n)*rho*Xop(n)+Yop(n)*rho*Yop(n)+Zop(n)*rho*Zop(n))\n",
    "    \n",
    "    return rho"
   ]
  },
  {
   "cell_type": "code",
   "execution_count": 222,
   "metadata": {},
   "outputs": [],
   "source": [
    "def Depolarise2(rho,n,p):\n",
    "    \n",
    "    rho=(1.0-p)*rho+(p/3.0)*(Xop2(n)*rho*Xop2(n)+Yop2(n)*rho*Yop2(n)+Zop2(n)*rho*Zop2(n))\n",
    "    \n",
    "    return rho"
   ]
  },
  {
   "cell_type": "code",
   "execution_count": 223,
   "metadata": {},
   "outputs": [],
   "source": [
    "def Trotter(Ha,tt, N):\n",
    "    Tro= Qeye \n",
    "    \n",
    "    for n in range(len(Ha)):\n",
    "        \n",
    "        Tro= Tro*(-1j*Ha[n]*tt/N).expm()\n",
    "        \n",
    "    \n",
    "    Res= Tro**N\n",
    "    \n",
    "    return Res\n",
    "    "
   ]
  },
  {
   "cell_type": "code",
   "execution_count": 224,
   "metadata": {},
   "outputs": [],
   "source": [
    "def controlH(Ham,tt): \n",
    "    contev=tensor(basis(2,0)*basis(2,0).dag(), Qeye)+tensor(basis(2,1)*basis(2,1).dag(), (-1j*Ham*tt).expm())\n",
    "    \n",
    "    return contev"
   ]
  },
  {
   "cell_type": "code",
   "execution_count": 225,
   "metadata": {},
   "outputs": [],
   "source": [
    "def controlHTro(Ha,tt, N): \n",
    "    \n",
    "    Trop= Trotter(Ha, tt, N)\n",
    "    \n",
    "    contev=tensor(basis(2,0)*basis(2,0).dag(), Qeye)+tensor(basis(2,1)*basis(2,1).dag(), Trop)\n",
    "    \n",
    "    return contev\n",
    "\n"
   ]
  },
  {
   "cell_type": "code",
   "execution_count": 226,
   "metadata": {},
   "outputs": [],
   "source": [
    "def noisyTrotone(tt, NN, rho, pp1, pp2):\n",
    "    \n",
    "    sta=rho\n",
    "    \n",
    "    for n in range(Num-1):\n",
    "        \n",
    "        contev=tensor(basis(2,0)*basis(2,0).dag(), Qeye)+tensor(basis(2,1)*basis(2,1).dag(), (-1j*V/4* Zop(n)*Zop(n+1)*tt/NN).expm())\n",
    "    \n",
    "        \n",
    "        sta=contev* sta* contev.dag()\n",
    "        \n",
    "        sta= Depolarise2(sta,0,pp1) \n",
    "        \n",
    "        sta= Depolarise2(sta,n,pp2) \n",
    "        \n",
    "        sta= Depolarise2(sta,n+1,pp2) \n",
    "        \n",
    "    for n in range(Num):\n",
    "        \n",
    "        contev=tensor(basis(2,0)*basis(2,0).dag(), Qeye)+tensor(basis(2,1)*basis(2,1).dag(), (-1j*hx* Xop(n)*tt/NN).expm())\n",
    "        \n",
    "        sta=contev*sta* contev.dag()\n",
    "        \n",
    "    \n",
    "    return sta\n",
    "        \n",
    "    \n",
    "\n",
    "            \n",
    "        \n",
    "        "
   ]
  },
  {
   "cell_type": "code",
   "execution_count": 227,
   "metadata": {},
   "outputs": [],
   "source": [
    "# main code \n",
    "\n",
    "delt = 0.5\n",
    "\n",
    "Nran=20\n",
    "\n",
    "\n",
    "Ntro=20\n",
    "\n",
    "# Ancilla \n",
    "perr1=0.01\n",
    "\n",
    "# System\n",
    "perr2=0.01\n",
    "\n",
    "Nshots=10*5\n",
    "\n",
    "\n"
   ]
  },
  {
   "cell_type": "code",
   "execution_count": 228,
   "metadata": {},
   "outputs": [],
   "source": [
    "#init=[]\n",
    "\n",
    "#for n in range(Num):\n",
    "    #init.append(plus)\n",
    "    \n",
    "#init=tensor(init)"
   ]
  },
  {
   "cell_type": "code",
   "execution_count": 229,
   "metadata": {},
   "outputs": [],
   "source": [
    "quint=init\n",
    "\n",
    "quint=quint/norm(quint)"
   ]
  },
  {
   "cell_type": "code",
   "execution_count": 230,
   "metadata": {},
   "outputs": [],
   "source": [
    "quint2=tensor(ket2dm(anc), ket2dm(quint))"
   ]
  },
  {
   "cell_type": "code",
   "execution_count": 231,
   "metadata": {},
   "outputs": [],
   "source": [
    "import random"
   ]
  },
  {
   "cell_type": "code",
   "execution_count": 232,
   "metadata": {},
   "outputs": [],
   "source": [
    "#  Add shot noise, with physical noise\n",
    "\n",
    "\n",
    "EX=[]\n",
    "\n",
    "EY=[]\n",
    "\n",
    "\n",
    "\n",
    "Time=[]\n",
    "\n",
    "\n",
    "\n",
    "\n",
    "\n",
    "for n1 in range(-Nran, Nran+1):\n",
    "    \n",
    "    \n",
    "   \n",
    "    \n",
    "    \n",
    "\n",
    "    t1=delt*n1\n",
    "    \n",
    "    Time.append(t1)\n",
    "        \n",
    "    \n",
    "    # noisyTrotone(tt, NN, rho, pp)\n",
    "    \n",
    "    state=quint2\n",
    "    \n",
    "    for kk in range(Ntro):\n",
    "        state= noisyTrotone(t1, Ntro, state, perr1, perr2)\n",
    "    \n",
    "    \n",
    "    \n",
    "    expecx= (tensor(sigmax(), Qeye)* state).tr()\n",
    "\n",
    "    expecy= (tensor(sigmay(), Qeye)* state).tr()\n",
    "    \n",
    "    varx= 1- expecx**2 \n",
    "    \n",
    "    vary=1- expecy**2 \n",
    "    \n",
    "    randx =  random.gauss(mu=expecx, sigma=sqrt(varx/Nshots))\n",
    "    \n",
    "    randy =  random.gauss(mu=expecy, sigma=sqrt(vary/Nshots))\n",
    "    \n",
    "    EX.append(randx)\n",
    "    \n",
    "    EY.append(randy)\n",
    "\n"
   ]
  },
  {
   "cell_type": "code",
   "execution_count": 233,
   "metadata": {},
   "outputs": [],
   "source": [
    "#  Sweep energy \n",
    "\n",
    "\n",
    "gamm=0.001\n",
    "\n",
    "delE=0.1\n",
    "\n",
    "Range=100\n",
    "\n",
    "Val=[]\n",
    "\n",
    "\n",
    "\n",
    "\n",
    "\n",
    "\n",
    "    \n",
    "Energy=[]\n",
    "\n",
    "for k in range(-Range, Range+1):\n",
    "\n",
    "    Ee=delE*k\n",
    "\n",
    "    Energy.append(Ee)\n",
    "\n",
    "\n",
    "\n",
    "\n",
    "\n",
    "    #noisepro=0.1\n",
    "\n",
    "    val=0\n",
    "    \n",
    "    for n in range(0, 2*Nran+1):\n",
    "        \n",
    "        t1=delt*(n-Nran)\n",
    "\n",
    "\n",
    "\n",
    "        \n",
    "        val=val+fil(gamm, t1)*exp(1j*Ee*t1)* (EX[n]+1j*EY[n]) *delt\n",
    "\n",
    "            #val2=val2+fil(gamm, t1)*fil(gamm, t2)*exp(1j*Ee*(t1-t2))*Res5[ll][integer]*delt**2\n",
    "\n",
    "            #val3=val3+fil(gamm, t1)*fil(gamm, t2)*delt**2\n",
    "\n",
    "\n",
    "\n",
    "\n",
    "    Val.append(abs(val))"
   ]
  },
  {
   "cell_type": "code",
   "execution_count": 234,
   "metadata": {},
   "outputs": [
    {
     "name": "stderr",
     "output_type": "stream",
     "text": [
      "WARNING:matplotlib.legend:No handles with labels found to put in legend.\n"
     ]
    },
    {
     "data": {
      "text/plain": [
       "Text(0, 0.5, 'Population')"
      ]
     },
     "execution_count": 234,
     "metadata": {},
     "output_type": "execute_result"
    },
    {
     "data": {
      "image/png": "[encoded data removed]",
      "text/plain": [
       "<Figure size 720x432 with 1 Axes>"
      ]
     },
     "metadata": {
      "needs_background": "light"
     },
     "output_type": "display_data"
    }
   ],
   "source": [
    "#tlist = np.linspace(0,error,stepnum)\n",
    "\n",
    "\n",
    "\n",
    "fig, axes = plt.subplots(1, 1, figsize=(10,6))\n",
    "\n",
    "# Reference point coordinates\n",
    "ref_energy = eigvals[0]  # Example x-coordinate for the reference point\n",
    "ref_val = np.sin(ref_energy)  # Example y-coordinate for the reference point\n",
    "\n",
    "axes.plot(Energy, Val, \"-\",color=\"Gray\")\n",
    "\n",
    "\n",
    "\n",
    "\n",
    "\n",
    "axes.legend(loc=0)\n",
    "axes.set_xlabel('Energy')\n",
    "axes.set_ylabel('Population')"
   ]
  },
  {
   "cell_type": "code",
   "execution_count": 235,
   "metadata": {},
   "outputs": [
    {
     "name": "stderr",
     "output_type": "stream",
     "text": [
      "WARNING:matplotlib.legend:No handles with labels found to put in legend.\n"
     ]
    },
    {
     "data": {
      "text/plain": [
       "Text(0, 0.5, 'Population')"
      ]
     },
     "execution_count": 235,
     "metadata": {},
     "output_type": "execute_result"
    },
    {
     "data": {
      "image/png": "[encoded data removed]",
      "text/plain": [
       "<Figure size 720x432 with 1 Axes>"
      ]
     },
     "metadata": {
      "needs_background": "light"
     },
     "output_type": "display_data"
    }
   ],
   "source": [
    "#tlist = np.linspace(0,error,stepnum)\n",
    "\n",
    "\n",
    "\n",
    "fig, axes = plt.subplots(1, 1, figsize=(10,6))\n",
    "\n",
    "# Reference point coordinates\n",
    "ref_energy = eigvals[0]  # Example x-coordinate for the reference point\n",
    "ref_val = np.sin(ref_energy)  # Example y-coordinate for the reference point\n",
    "\n",
    "axes.plot(Time, EX, \"-\",color=\"Gray\")\n",
    "\n",
    "axes.plot(Time, EY, \"-\",color=\"Red\")\n",
    "\n",
    "\n",
    "\n",
    "\n",
    "\n",
    "axes.legend(loc=0)\n",
    "axes.set_xlabel('Energy')\n",
    "axes.set_ylabel('Population')"
   ]
  },
  {
   "cell_type": "code",
   "execution_count": 236,
   "metadata": {},
   "outputs": [
    {
     "data": {
      "text/plain": [
       "Text(0, 0.5, 'Population')"
      ]
     },
     "execution_count": 236,
     "metadata": {},
     "output_type": "execute_result"
    },
    {
     "data": {
      "image/png": "[encoded data removed]",
      "text/plain": [
       "<Figure size 720x432 with 1 Axes>"
      ]
     },
     "metadata": {
      "needs_background": "light"
     },
     "output_type": "display_data"
    }
   ],
   "source": [
    "#tlist = np.linspace(0,error,stepnum)\n",
    "\n",
    "\n",
    "\n",
    "fig, axes = plt.subplots(1, 1, figsize=(10,6))\n",
    "\n",
    "\n",
    "\n",
    "axes.plot(Energy, Val, \"-\",color=\"Gray\")\n",
    "\n",
    "ref_energy= eigvals\n",
    "\n",
    "axes.vlines(x=ref_energy, ymin=0, ymax=0.15, color='blue', linewidth=2, label=f'Reference Point at {ref_energy}')\n",
    "\n",
    "axes.legend(loc=0)\n",
    "\n",
    "\n",
    "\n",
    "axes.legend(loc=0)\n",
    "axes.set_xlabel('Energy')\n",
    "axes.set_ylabel('Population')"
   ]
  },
  {
   "cell_type": "code",
   "execution_count": null,
   "metadata": {},
   "outputs": [],
   "source": []
  }
 ],
 "metadata": {
  "anaconda-cloud": {},
  "kernelspec": {
   "display_name": "Python 3",
   "language": "python",
   "name": "python3"
  },
  "language_info": {
   "codemirror_mode": {
    "name": "ipython",
    "version": 3
   },
   "file_extension": ".py",
   "mimetype": "text/x-python",
   "name": "python",
   "nbconvert_exporter": "python",
   "pygments_lexer": "ipython3",
   "version": "3.8.5"
  }
 },
 "nbformat": 4,
 "nbformat_minor": 1
}
