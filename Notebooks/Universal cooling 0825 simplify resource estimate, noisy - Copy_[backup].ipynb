{
 "cells": [
  {
   "cell_type": "code",
   "execution_count": 274,
   "metadata": {},
   "outputs": [
    {
     "name": "stdout",
     "output_type": "stream",
     "text": [
      "Populating the interactive namespace from numpy and matplotlib\n"
     ]
    }
   ],
   "source": [
    "#%matplotlib inline\n",
    "%pylab inline\n",
    "import matplotlib.pyplot as plt\n",
    "import numpy as np"
   ]
  },
  {
   "cell_type": "code",
   "execution_count": 664,
   "metadata": {},
   "outputs": [
    {
     "data": {
      "text/plain": [
       "'3.8.5 (default, Sep  4 2020, 02:22:02) \\n[Clang 10.0.0 ]'"
      ]
     },
     "execution_count": 664,
     "metadata": {},
     "output_type": "execute_result"
    }
   ],
   "source": [
    "import sys\n",
    "\n",
    "sys.version"
   ]
  },
  {
   "cell_type": "code",
   "execution_count": 275,
   "metadata": {},
   "outputs": [],
   "source": [
    "from qutip import *\n",
    "import cmath\n",
    "import math"
   ]
  },
  {
   "cell_type": "code",
   "execution_count": 681,
   "metadata": {},
   "outputs": [],
   "source": [
    "#Parameters foR hamiltonian\n",
    "V=1.0\n",
    "hx=1.0\n",
    "hz=0.0\n",
    "\n",
    "#dissipation\n",
    "gamma=1.0\n",
    "\n",
    "gamma0=0.0"
   ]
  },
  {
   "cell_type": "code",
   "execution_count": 682,
   "metadata": {},
   "outputs": [],
   "source": [
    "T=10\n",
    "\n",
    "stepp=0.01\n",
    "Stepnumber=int(T/stepp)\n",
    "\n",
    "\n",
    "\n",
    "tlist = np.linspace(0,T,Stepnumber)\n",
    "\n",
    "#Number of qubits\n",
    "Num=3"
   ]
  },
  {
   "cell_type": "code",
   "execution_count": 683,
   "metadata": {},
   "outputs": [],
   "source": [
    "init=[]\n",
    "\n",
    "for n in range(Num):\n",
    "    init.append(basis(2,0))\n",
    "    \n",
    "init=tensor(init)"
   ]
  },
  {
   "cell_type": "code",
   "execution_count": null,
   "metadata": {},
   "outputs": [],
   "source": []
  },
  {
   "cell_type": "code",
   "execution_count": 684,
   "metadata": {},
   "outputs": [],
   "source": [
    "Qeye=[]\n",
    "\n",
    "for n in range(Num):\n",
    "    Qeye.append(qeye(2))\n",
    "    \n",
    "Qeye=tensor(Qeye)"
   ]
  },
  {
   "cell_type": "code",
   "execution_count": 685,
   "metadata": {},
   "outputs": [],
   "source": [
    "def Xop(m): \n",
    "    \n",
    "    X=[]\n",
    "    for n in range(Num):\n",
    "        \n",
    "        if n==m:\n",
    "            X.append(sigmax())\n",
    "        else: \n",
    "            X.append(qeye(2))\n",
    "    X=tensor(X)\n",
    "    \n",
    "    return X"
   ]
  },
  {
   "cell_type": "code",
   "execution_count": 686,
   "metadata": {},
   "outputs": [],
   "source": [
    "def Yop(m): \n",
    "    \n",
    "    X=[]\n",
    "    for n in range(Num):\n",
    "        \n",
    "        if n==m:\n",
    "            X.append(sigmay())\n",
    "        else: \n",
    "            X.append(qeye(2))\n",
    "    X=tensor(X)\n",
    "    \n",
    "    return X"
   ]
  },
  {
   "cell_type": "code",
   "execution_count": 687,
   "metadata": {},
   "outputs": [],
   "source": [
    "def Zop(m): \n",
    "    \n",
    "    X=[]\n",
    "    for n in range(Num):\n",
    "        \n",
    "        if n==m:\n",
    "            X.append(sigmaz())\n",
    "        else: \n",
    "            X.append(qeye(2))\n",
    "    X=tensor(X)\n",
    "    \n",
    "    return X"
   ]
  },
  {
   "cell_type": "code",
   "execution_count": 688,
   "metadata": {},
   "outputs": [],
   "source": [
    "def Xop2(m): \n",
    "    \n",
    "    X=[]\n",
    "    for n in range(Num+1):\n",
    "        \n",
    "        if n==m:\n",
    "            X.append(sigmax())\n",
    "        else: \n",
    "            X.append(qeye(2))\n",
    "    X=tensor(X)\n",
    "    \n",
    "    return X"
   ]
  },
  {
   "cell_type": "code",
   "execution_count": 689,
   "metadata": {},
   "outputs": [],
   "source": [
    "def Yop2(m): \n",
    "    \n",
    "    X=[]\n",
    "    for n in range(Num+1):\n",
    "        \n",
    "        if n==m:\n",
    "            X.append(sigmay())\n",
    "        else: \n",
    "            X.append(qeye(2))\n",
    "    X=tensor(X)\n",
    "    \n",
    "    return X"
   ]
  },
  {
   "cell_type": "code",
   "execution_count": 690,
   "metadata": {},
   "outputs": [],
   "source": [
    "def Zop2(m): \n",
    "    \n",
    "    X=[]\n",
    "    for n in range(Num+1):\n",
    "        \n",
    "        if n==m:\n",
    "            X.append(sigmaz())\n",
    "        else: \n",
    "            X.append(qeye(2))\n",
    "    X=tensor(X)\n",
    "    \n",
    "    return X"
   ]
  },
  {
   "cell_type": "code",
   "execution_count": 691,
   "metadata": {},
   "outputs": [],
   "source": [
    "Hamset=[]\n",
    "\n",
    "V=1.0 \n",
    "\n",
    "hx=1.0 \n",
    "\n",
    "hz=0\n",
    "\n",
    "for n in range(Num-1):\n",
    "    \n",
    "    Hamset.append( V/4* Zop(n)*Zop(n+1) )\n",
    "    \n",
    "for n in range(Num):\n",
    "    \n",
    "    Hamset.append(hx*Xop(n))\n",
    "    \n",
    "    Hamset.append(hz*Zop(n))\n",
    "    \n"
   ]
  },
  {
   "cell_type": "code",
   "execution_count": 692,
   "metadata": {},
   "outputs": [],
   "source": [
    "Hamil= 0* Zop(0)\n",
    "\n",
    "for n in range(len(Hamset)):\n",
    "    Hamil=Hamil+Hamset[n]"
   ]
  },
  {
   "cell_type": "code",
   "execution_count": 693,
   "metadata": {},
   "outputs": [],
   "source": [
    "Hamil=Hamil"
   ]
  },
  {
   "cell_type": "code",
   "execution_count": 694,
   "metadata": {},
   "outputs": [],
   "source": [
    "eigvals, eigvecs= Hamil.eigenstates()"
   ]
  },
  {
   "cell_type": "code",
   "execution_count": 695,
   "metadata": {},
   "outputs": [
    {
     "data": {
      "text/plain": [
       "array([-3.03124812, -1.36815091, -1.        , -0.66309722,  0.66309722,\n",
       "        1.        ,  1.36815091,  3.03124812])"
      ]
     },
     "execution_count": 695,
     "metadata": {},
     "output_type": "execute_result"
    }
   ],
   "source": [
    "eigvals"
   ]
  },
  {
   "cell_type": "code",
   "execution_count": 696,
   "metadata": {},
   "outputs": [],
   "source": [
    "def fil(a,x):\n",
    "    return sqrt(a/pi)*exp(-a*x**2)"
   ]
  },
  {
   "cell_type": "code",
   "execution_count": 697,
   "metadata": {},
   "outputs": [],
   "source": [
    "anc=(basis(2,0)+basis(2,1))/sqrt(2)"
   ]
  },
  {
   "cell_type": "code",
   "execution_count": 698,
   "metadata": {},
   "outputs": [],
   "source": [
    "plus=(basis(2,0)+basis(2,1))/sqrt(2)"
   ]
  },
  {
   "cell_type": "code",
   "execution_count": 699,
   "metadata": {},
   "outputs": [],
   "source": [
    "def Depolarise(rho,n,p):\n",
    "    \n",
    "    rho=(1.0-p)*rho+(p/3.0)*(Xop(n)*rho*Xop(n)+Yop(n)*rho*Yop(n)+Zop(n)*rho*Zop(n))\n",
    "    \n",
    "    return rho"
   ]
  },
  {
   "cell_type": "code",
   "execution_count": 700,
   "metadata": {},
   "outputs": [],
   "source": [
    "def Depolarise2(rho,n,p):\n",
    "    \n",
    "    rho=(1.0-p)*rho+(p/3.0)*(Xop2(n)*rho*Xop2(n)+Yop2(n)*rho*Yop2(n)+Zop2(n)*rho*Zop2(n))\n",
    "    \n",
    "    return rho"
   ]
  },
  {
   "cell_type": "code",
   "execution_count": 701,
   "metadata": {},
   "outputs": [],
   "source": [
    "def Trotter(Ha,tt, N):\n",
    "    Tro= Qeye \n",
    "    \n",
    "    for n in range(len(Ha)):\n",
    "        \n",
    "        Tro= Tro*(-1j*Ha[n]*tt/N).expm()\n",
    "        \n",
    "    \n",
    "    Res= Tro**N\n",
    "    \n",
    "    return Res\n",
    "    "
   ]
  },
  {
   "cell_type": "code",
   "execution_count": 702,
   "metadata": {},
   "outputs": [],
   "source": [
    "def controlH(Ham,tt): \n",
    "    contev=tensor(basis(2,0)*basis(2,0).dag(), Qeye)+tensor(basis(2,1)*basis(2,1).dag(), (-1j*Ham*tt).expm())\n",
    "    \n",
    "    return contev"
   ]
  },
  {
   "cell_type": "code",
   "execution_count": 703,
   "metadata": {},
   "outputs": [],
   "source": [
    "def controlHTro(Ha,tt, N): \n",
    "    \n",
    "    Trop= Trotter(Ha, tt, N)\n",
    "    \n",
    "    contev=tensor(basis(2,0)*basis(2,0).dag(), Qeye)+tensor(basis(2,1)*basis(2,1).dag(), Trop)\n",
    "    \n",
    "    return contev\n",
    "\n"
   ]
  },
  {
   "cell_type": "code",
   "execution_count": 704,
   "metadata": {},
   "outputs": [],
   "source": [
    "def noisyTrotone(tt, NN, rho, pp):\n",
    "    \n",
    "    sta=rho\n",
    "    \n",
    "    for n in range(Num-1):\n",
    "        \n",
    "        contev=tensor(basis(2,0)*basis(2,0).dag(), Qeye)+tensor(basis(2,1)*basis(2,1).dag(), (-1j*V/4* Zop(n)*Zop(n+1)*tt/NN).expm())\n",
    "    \n",
    "        \n",
    "        sta=contev* sta* contev.dag()\n",
    "        \n",
    "        sta= Depolarise2(sta,0,pp) \n",
    "        \n",
    "        sta= Depolarise2(sta,n,pp) \n",
    "        \n",
    "        sta= Depolarise2(sta,n+1,pp) \n",
    "        \n",
    "    for n in range(Num):\n",
    "        \n",
    "        contev=tensor(basis(2,0)*basis(2,0).dag(), Qeye)+tensor(basis(2,1)*basis(2,1).dag(), (-1j*hx* Xop(n)*tt/NN).expm())\n",
    "        \n",
    "        sta=contev*sta* contev.dag()\n",
    "        \n",
    "    \n",
    "    return sta\n",
    "        \n",
    "    \n",
    "\n",
    "            \n",
    "        \n",
    "        "
   ]
  },
  {
   "cell_type": "code",
   "execution_count": 705,
   "metadata": {},
   "outputs": [],
   "source": [
    "# main code \n",
    "\n",
    "delt = 0.5\n",
    "\n",
    "Nran=20\n",
    "\n",
    "noisepro=0\n",
    "\n",
    "Ntro=20\n",
    "\n",
    "\n"
   ]
  },
  {
   "cell_type": "code",
   "execution_count": 706,
   "metadata": {},
   "outputs": [],
   "source": [
    "#init=[]\n",
    "\n",
    "#for n in range(Num):\n",
    "    #init.append(plus)\n",
    "    \n",
    "#init=tensor(init)"
   ]
  },
  {
   "cell_type": "code",
   "execution_count": 707,
   "metadata": {},
   "outputs": [],
   "source": [
    "quint=init\n",
    "\n",
    "quint=quint/norm(quint)"
   ]
  },
  {
   "cell_type": "code",
   "execution_count": 708,
   "metadata": {},
   "outputs": [],
   "source": [
    "quint2=tensor(ket2dm(anc), ket2dm(quint))"
   ]
  },
  {
   "cell_type": "code",
   "execution_count": 709,
   "metadata": {},
   "outputs": [],
   "source": [
    "import random"
   ]
  },
  {
   "cell_type": "code",
   "execution_count": 710,
   "metadata": {},
   "outputs": [],
   "source": [
    "#  Add shot noise, no physical noise\n",
    "\n",
    "\n",
    "EX=[]\n",
    "\n",
    "EY=[]\n",
    "\n",
    "\n",
    "Nshots=1000\n",
    "\n",
    "\n",
    "for n1 in range(-Nran, Nran+1):\n",
    "\n",
    "    t1=delt*n1\n",
    "\n",
    "    state= controlHTro(Hamset,t1, Ntro)*quint2*controlHTro(Hamset, t1, Ntro).dag()\n",
    "\n",
    "    expecx= (tensor(sigmax(), Qeye)* state).tr()\n",
    "\n",
    "    expecy= (tensor(sigmay(), Qeye)* state).tr()\n",
    "    \n",
    "    varx= 1- expecx**2 \n",
    "    \n",
    "    vary=1- expecy**2 \n",
    "    \n",
    "    randx =  random.gauss(mu=expecx, sigma=sqrt(varx/Nshots))\n",
    "    \n",
    "    randy =  random.gauss(mu=expecy, sigma=sqrt(vary/Nshots))\n",
    "    \n",
    "    EX.append(randx)\n",
    "    \n",
    "    EY.append(randy)"
   ]
  },
  {
   "cell_type": "code",
   "execution_count": 711,
   "metadata": {},
   "outputs": [],
   "source": [
    "#  Add shot noise, with physical noise\n",
    "\n",
    "\n",
    "EX=[]\n",
    "\n",
    "EY=[]\n",
    "\n",
    "perr=0.000\n",
    "\n",
    "Time=[]\n",
    "\n",
    "\n",
    "Nshots=10**15\n",
    "\n",
    "\n",
    "for n1 in range(-Nran, Nran+1):\n",
    "    \n",
    "    \n",
    "   \n",
    "    \n",
    "    \n",
    "\n",
    "    t1=delt*n1\n",
    "    \n",
    "    Time.append(t1)\n",
    "        \n",
    "    \n",
    "    # noisyTrotone(tt, NN, rho, pp)\n",
    "    \n",
    "    state=quint2\n",
    "    \n",
    "    for kk in range(Ntro):\n",
    "        state= noisyTrotone(t1, Ntro, state, perr)\n",
    "    \n",
    "    \n",
    "    \n",
    "    expecx= (tensor(sigmax(), Qeye)* state).tr()\n",
    "\n",
    "    expecy= (tensor(sigmay(), Qeye)* state).tr()\n",
    "    \n",
    "    varx= 1- expecx**2 \n",
    "    \n",
    "    vary=1- expecy**2 \n",
    "    \n",
    "    randx =  random.gauss(mu=expecx, sigma=sqrt(varx/Nshots))\n",
    "    \n",
    "    randy =  random.gauss(mu=expecy, sigma=sqrt(vary/Nshots))\n",
    "    \n",
    "    EX.append(randx)\n",
    "    \n",
    "    EY.append(randy)\n",
    "\n"
   ]
  },
  {
   "cell_type": "code",
   "execution_count": 712,
   "metadata": {},
   "outputs": [
    {
     "data": {
      "text/plain": [
       "[0.6194363665362121,\n",
       " 0.48519497274901346,\n",
       " 0.5851493431592544,\n",
       " 0.7108635299259599,\n",
       " 0.30784331799956377,\n",
       " -0.3839233555517915,\n",
       " -0.5992319752047025,\n",
       " -0.30676921276269886,\n",
       " -0.17235072914009733,\n",
       " -0.3232747778085129,\n",
       " -0.21908139373511862,\n",
       " 0.17653605313312076,\n",
       " 0.19897700949466482,\n",
       " -0.302901485680933,\n",
       " -0.6097441041214713,\n",
       " -0.34355789381844226,\n",
       " -0.03389329699562789,\n",
       " -0.0393537852286008,\n",
       " 0.09780545260317311,\n",
       " 0.64963091186854,\n",
       " 1.0,\n",
       " 0.6496308787959035,\n",
       " 0.09780548678607531,\n",
       " -0.03935382098275466,\n",
       " -0.0338933543966505,\n",
       " -0.3435578259595464,\n",
       " -0.6097440857426427,\n",
       " -0.30290151429179,\n",
       " 0.198976983269119,\n",
       " 0.17653600233298533,\n",
       " -0.21908140550745817,\n",
       " -0.32327472272529834,\n",
       " -0.17235076972955996,\n",
       " -0.30676922079226066,\n",
       " -0.5992319649411021,\n",
       " -0.3839233846623192,\n",
       " 0.30784328543369643,\n",
       " 0.7108634749190385,\n",
       " 0.5851493075406365,\n",
       " 0.48519495944812213,\n",
       " 0.6194363697098609]"
      ]
     },
     "execution_count": 712,
     "metadata": {},
     "output_type": "execute_result"
    }
   ],
   "source": [
    "EX"
   ]
  },
  {
   "cell_type": "code",
   "execution_count": 713,
   "metadata": {},
   "outputs": [],
   "source": [
    "#  Sweep energy \n",
    "\n",
    "\n",
    "gamm=0.001\n",
    "\n",
    "delE=0.1\n",
    "\n",
    "Range=100\n",
    "\n",
    "Val=[]\n",
    "\n",
    "\n",
    "\n",
    "\n",
    "\n",
    "\n",
    "    \n",
    "Energy=[]\n",
    "\n",
    "for k in range(-Range, Range+1):\n",
    "\n",
    "    Ee=delE*k\n",
    "\n",
    "    Energy.append(Ee)\n",
    "\n",
    "\n",
    "\n",
    "\n",
    "\n",
    "    #noisepro=0.1\n",
    "\n",
    "    val=0\n",
    "    \n",
    "    for n in range(0, 2*Nran+1):\n",
    "        \n",
    "        t1=delt*(n-Nran)\n",
    "\n",
    "\n",
    "\n",
    "        \n",
    "        val=val+fil(gamm, t1)*exp(1j*Ee*t1)* (EX[n]+1j*EY[n]) *delt\n",
    "\n",
    "            #val2=val2+fil(gamm, t1)*fil(gamm, t2)*exp(1j*Ee*(t1-t2))*Res5[ll][integer]*delt**2\n",
    "\n",
    "            #val3=val3+fil(gamm, t1)*fil(gamm, t2)*delt**2\n",
    "\n",
    "\n",
    "\n",
    "\n",
    "    Val.append(abs(val))"
   ]
  },
  {
   "cell_type": "code",
   "execution_count": 714,
   "metadata": {},
   "outputs": [
    {
     "name": "stderr",
     "output_type": "stream",
     "text": [
      "WARNING:matplotlib.legend:No handles with labels found to put in legend.\n"
     ]
    },
    {
     "data": {
      "text/plain": [
       "Text(0, 0.5, 'Population')"
      ]
     },
     "execution_count": 714,
     "metadata": {},
     "output_type": "execute_result"
    },
    {
     "data": {
      "image/png": "[encoded data removed]",
      "text/plain": [
       "<Figure size 720x432 with 1 Axes>"
      ]
     },
     "metadata": {
      "needs_background": "light"
     },
     "output_type": "display_data"
    }
   ],
   "source": [
    "#tlist = np.linspace(0,error,stepnum)\n",
    "\n",
    "\n",
    "\n",
    "fig, axes = plt.subplots(1, 1, figsize=(10,6))\n",
    "\n",
    "# Reference point coordinates\n",
    "ref_energy = eigvals[0]  # Example x-coordinate for the reference point\n",
    "ref_val = np.sin(ref_energy)  # Example y-coordinate for the reference point\n",
    "\n",
    "axes.plot(Energy, Val, \"-\",color=\"Gray\")\n",
    "\n",
    "\n",
    "\n",
    "\n",
    "\n",
    "axes.legend(loc=0)\n",
    "axes.set_xlabel('Energy')\n",
    "axes.set_ylabel('Population')"
   ]
  },
  {
   "cell_type": "code",
   "execution_count": 715,
   "metadata": {},
   "outputs": [
    {
     "name": "stderr",
     "output_type": "stream",
     "text": [
      "WARNING:matplotlib.legend:No handles with labels found to put in legend.\n"
     ]
    },
    {
     "data": {
      "text/plain": [
       "Text(0, 0.5, 'Population')"
      ]
     },
     "execution_count": 715,
     "metadata": {},
     "output_type": "execute_result"
    },
    {
     "data": {
      "image/png": "[encoded data removed]",
      "text/plain": [
       "<Figure size 720x432 with 1 Axes>"
      ]
     },
     "metadata": {
      "needs_background": "light"
     },
     "output_type": "display_data"
    }
   ],
   "source": [
    "#tlist = np.linspace(0,error,stepnum)\n",
    "\n",
    "\n",
    "\n",
    "fig, axes = plt.subplots(1, 1, figsize=(10,6))\n",
    "\n",
    "# Reference point coordinates\n",
    "ref_energy = eigvals[0]  # Example x-coordinate for the reference point\n",
    "ref_val = np.sin(ref_energy)  # Example y-coordinate for the reference point\n",
    "\n",
    "axes.plot(Time, EX, \"-\",color=\"Gray\")\n",
    "\n",
    "axes.plot(Time, EY, \"-\",color=\"Red\")\n",
    "\n",
    "\n",
    "\n",
    "\n",
    "\n",
    "axes.legend(loc=0)\n",
    "axes.set_xlabel('Energy')\n",
    "axes.set_ylabel('Population')"
   ]
  },
  {
   "cell_type": "code",
   "execution_count": 716,
   "metadata": {},
   "outputs": [
    {
     "data": {
      "text/plain": [
       "41"
      ]
     },
     "execution_count": 716,
     "metadata": {},
     "output_type": "execute_result"
    }
   ],
   "source": [
    "len(EY)"
   ]
  },
  {
   "cell_type": "code",
   "execution_count": 717,
   "metadata": {},
   "outputs": [
    {
     "data": {
      "text/plain": [
       "[0.008998715209427268,\n",
       " 0.0033455210859653544,\n",
       " 0.018419346448458215,\n",
       " 0.032919126841213814,\n",
       " 0.04381454988606704,\n",
       " 0.047185856850154015,\n",
       " 0.03977587463431621,\n",
       " 0.022565126535872494,\n",
       " 0.0024347112096932775,\n",
       " 0.01104221137120117,\n",
       " 0.012078107555671085,\n",
       " 0.0031273317889701177,\n",
       " 0.006895074359780558,\n",
       " 0.009606234785445217,\n",
       " 0.0036262442378296486,\n",
       " 0.004942632598307327,\n",
       " 0.008315926492305281,\n",
       " 0.003906375860726143,\n",
       " 0.0037477575318589198,\n",
       " 0.007476923844076673,\n",
       " 0.004096306857118822,\n",
       " 0.0029042059411459814,\n",
       " 0.006871166558854311,\n",
       " 0.004249807665602292,\n",
       " 0.0022517915580869217,\n",
       " 0.006406838333055102,\n",
       " 0.004391386914837077,\n",
       " 0.001713521818789097,\n",
       " 0.006037263362953268,\n",
       " 0.004533851518296399,\n",
       " 0.001246887767889069,\n",
       " 0.005735772051261523,\n",
       " 0.004685128294494633,\n",
       " 0.0008256546763833865,\n",
       " 0.005485972578259365,\n",
       " 0.004851283332931994,\n",
       " 0.00043185015401024933,\n",
       " 0.0052773860301118325,\n",
       " 0.0050381138079417485,\n",
       " 5.1704576717176536e-05,\n",
       " 0.005103301576216479,\n",
       " 0.0052522550098662414,\n",
       " 0.0003267694048008001,\n",
       " 0.0049597100374638905,\n",
       " 0.005502307293929488,\n",
       " 0.0007156258794159289,\n",
       " 0.0048448561859048694,\n",
       " 0.005800399239744371,\n",
       " 0.0011289262499865598,\n",
       " 0.004759322995152052,\n",
       " 0.006164904148064509,\n",
       " 0.0015856159226634446,\n",
       " 0.004706766581885521,\n",
       " 0.006625775194703027,\n",
       " 0.0021149129253658365,\n",
       " 0.004695962427962197,\n",
       " 0.007236436179466199,\n",
       " 0.002768369507407047,\n",
       " 0.004746494853588573,\n",
       " 0.008104881199115137,\n",
       " 0.003652457774985404,\n",
       " 0.004907335886931638,\n",
       " 0.009494697498875262,\n",
       " 0.005039373047257049,\n",
       " 0.00534627970585298,\n",
       " 0.012302681597999549,\n",
       " 0.007899766502275737,\n",
       " 0.007499423446989963,\n",
       " 0.025137800979094273,\n",
       " 0.03459165415561566,\n",
       " 0.031522888719060005,\n",
       " 0.020029555456298354,\n",
       " 0.008190747934621464,\n",
       " 0.0013476259809899946,\n",
       " 0.0008731223008601416,\n",
       " 0.0018785001314667172,\n",
       " 0.0033579963303550886,\n",
       " 0.0036379454969445064,\n",
       " 0.0006181590814696734,\n",
       " 0.004347591262091185,\n",
       " 0.0064892682470020216,\n",
       " 0.0023287805343320564,\n",
       " 0.005588809501067126,\n",
       " 0.009563784008520567,\n",
       " 0.0037409250375410614,\n",
       " 0.008875446207707829,\n",
       " 0.016965117878272956,\n",
       " 0.010433177601604638,\n",
       " 0.008455999404258873,\n",
       " 0.02299699940128195,\n",
       " 0.013204796831898099,\n",
       " 0.027148248334527662,\n",
       " 0.08164822991815474,\n",
       " 0.11955776685125286,\n",
       " 0.11680828387444372,\n",
       " 0.07399049430776307,\n",
       " 0.016819003882284755,\n",
       " 0.022080791491165812,\n",
       " 0.02622850981938818,\n",
       " 0.005264813784834271,\n",
       " 0.01552927176170582,\n",
       " 0.016916311958466605,\n",
       " 0.0004675803991927621,\n",
       " 0.015386003889473419,\n",
       " 0.013689062430973745,\n",
       " 0.004836892159362925,\n",
       " 0.022134189187673986,\n",
       " 0.019544364151681554,\n",
       " 0.0036961566205098353,\n",
       " 0.026788501893325833,\n",
       " 0.022774141108194534,\n",
       " 0.01898432653803945,\n",
       " 0.08165468461598725,\n",
       " 0.13072577951555642,\n",
       " 0.13764696186011935,\n",
       " 0.0993587958258232,\n",
       " 0.03932823353021327,\n",
       " 0.009687469525866787,\n",
       " 0.027366894607738487,\n",
       " 0.016257358277503624,\n",
       " 0.0047766432180401585,\n",
       " 0.016654832357111793,\n",
       " 0.012626743306351463,\n",
       " 0.0007367937124580749,\n",
       " 0.01190457845971321,\n",
       " 0.01350840257692111,\n",
       " 0.005413190970784711,\n",
       " 0.00829995428273268,\n",
       " 0.02349753172414276,\n",
       " 0.03716229224226322,\n",
       " 0.045995932487859735,\n",
       " 0.04596951696780806,\n",
       " 0.03485334716806348,\n",
       " 0.015643408285959275,\n",
       " 0.0032699092746506387,\n",
       " 0.012840739952413256,\n",
       " 0.009818792540658988,\n",
       " 0.0006302648839860246,\n",
       " 0.008873324300855353,\n",
       " 0.008380571871069872,\n",
       " 0.0006050635479357603,\n",
       " 0.006941887781838338,\n",
       " 0.007603150651178222,\n",
       " 0.001324142348169559,\n",
       " 0.005733652040036812,\n",
       " 0.007088496830029384,\n",
       " 0.0018197630602855774,\n",
       " 0.004872245844789957,\n",
       " 0.00671802243637965,\n",
       " 0.002204945557291455,\n",
       " 0.004206043200116513,\n",
       " 0.006440758878214506,\n",
       " 0.0025320021041091664,\n",
       " 0.0036607700214722053,\n",
       " 0.006230258085759193,\n",
       " 0.0028289379288792124,\n",
       " 0.003194871706318107,\n",
       " 0.0060713527332043014,\n",
       " 0.0031129007971670564,\n",
       " 0.00278261218569173,\n",
       " 0.00595504341211797,\n",
       " 0.003396018194700442,\n",
       " 0.002406566803543385,\n",
       " 0.0058762447642052825,\n",
       " 0.0036883654012370565,\n",
       " 0.0020538198152836172,\n",
       " 0.005832780196064381,\n",
       " 0.003999832109204101,\n",
       " 0.0017137543316649868,\n",
       " 0.005825089139091015,\n",
       " 0.0043417372011194345,\n",
       " 0.0013764748074459236,\n",
       " 0.0058565057045136554,\n",
       " 0.004728788935332976,\n",
       " 0.001031316807678542,\n",
       " 0.005934312532226057,\n",
       " 0.005182264865118544,\n",
       " 0.0006648107216815154,\n",
       " 0.006072168940132616,\n",
       " 0.0057361371234354004,\n",
       " 0.0002570134125960285,\n",
       " 0.006295718672766266,\n",
       " 0.006450740058181215,\n",
       " 0.000226573342475937,\n",
       " 0.006657198019828869,\n",
       " 0.007448926151204874,\n",
       " 0.0008567269865127588,\n",
       " 0.007281680273929721,\n",
       " 0.009035783476621054,\n",
       " 0.001812353559231676,\n",
       " 0.008577801507183028,\n",
       " 0.012280147598809554,\n",
       " 0.003642860595588881,\n",
       " 0.013751075617014505,\n",
       " 0.029627158261880934,\n",
       " 0.03490917156081706,\n",
       " 0.02820961678166519,\n",
       " 0.015710209908276103,\n",
       " 0.0052369970066438055,\n",
       " 0.000240402021079621,\n",
       " 0.0011897833212122086]"
      ]
     },
     "execution_count": 717,
     "metadata": {},
     "output_type": "execute_result"
    }
   ],
   "source": [
    "Val"
   ]
  },
  {
   "cell_type": "code",
   "execution_count": 718,
   "metadata": {},
   "outputs": [
    {
     "data": {
      "text/plain": [
       "Text(0, 0.5, 'Population')"
      ]
     },
     "execution_count": 718,
     "metadata": {},
     "output_type": "execute_result"
    },
    {
     "data": {
      "image/png": "[encoded data removed]",
      "text/plain": [
       "<Figure size 720x432 with 1 Axes>"
      ]
     },
     "metadata": {
      "needs_background": "light"
     },
     "output_type": "display_data"
    }
   ],
   "source": [
    "#tlist = np.linspace(0,error,stepnum)\n",
    "\n",
    "\n",
    "\n",
    "fig, axes = plt.subplots(1, 1, figsize=(10,6))\n",
    "\n",
    "\n",
    "\n",
    "axes.plot(Energy, Val, \"-\",color=\"Gray\")\n",
    "\n",
    "ref_energy= eigvals\n",
    "\n",
    "axes.vlines(x=ref_energy, ymin=0, ymax=0.15, color='blue', linewidth=2, label=f'Reference Point at {ref_energy}')\n",
    "\n",
    "axes.legend(loc=0)\n",
    "\n",
    "\n",
    "\n",
    "axes.legend(loc=0)\n",
    "axes.set_xlabel('Energy')\n",
    "axes.set_ylabel('Population')"
   ]
  },
  {
   "cell_type": "code",
   "execution_count": 655,
   "metadata": {},
   "outputs": [
    {
     "data": {
      "text/plain": [
       "array([-3.03124812, -1.36815091, -1.        , -0.66309722,  0.66309722,\n",
       "        1.        ,  1.36815091,  3.03124812])"
      ]
     },
     "execution_count": 655,
     "metadata": {},
     "output_type": "execute_result"
    }
   ],
   "source": [
    "eigvals"
   ]
  },
  {
   "cell_type": "code",
   "execution_count": 656,
   "metadata": {},
   "outputs": [
    {
     "data": {
      "text/latex": [
       "Quantum object: dims = [[2, 2, 2], [1, 1, 1]], shape = (8, 1), type = ket\\begin{equation*}\\left(\\begin{array}{*{11}c}1.0\\\\0.0\\\\0.0\\\\0.0\\\\0.0\\\\0.0\\\\0.0\\\\0.0\\\\\\end{array}\\right)\\end{equation*}"
      ],
      "text/plain": [
       "Quantum object: dims = [[2, 2, 2], [1, 1, 1]], shape = (8, 1), type = ket\n",
       "Qobj data =\n",
       "[[1.]\n",
       " [0.]\n",
       " [0.]\n",
       " [0.]\n",
       " [0.]\n",
       " [0.]\n",
       " [0.]\n",
       " [0.]]"
      ]
     },
     "execution_count": 656,
     "metadata": {},
     "output_type": "execute_result"
    }
   ],
   "source": [
    "init"
   ]
  },
  {
   "cell_type": "code",
   "execution_count": 657,
   "metadata": {},
   "outputs": [
    {
     "data": {
      "text/plain": [
       "0.33185119824472414"
      ]
     },
     "execution_count": 657,
     "metadata": {},
     "output_type": "execute_result"
    }
   ],
   "source": [
    "(ket2dm(eigvecs[3])*ket2dm(init)).tr()"
   ]
  },
  {
   "cell_type": "code",
   "execution_count": 658,
   "metadata": {},
   "outputs": [
    {
     "data": {
      "text/plain": [
       "3"
      ]
     },
     "execution_count": 658,
     "metadata": {},
     "output_type": "execute_result"
    }
   ],
   "source": [
    "Num"
   ]
  },
  {
   "cell_type": "code",
   "execution_count": 659,
   "metadata": {},
   "outputs": [
    {
     "data": {
      "text/latex": [
       "Quantum object: dims = [[2, 2, 2], [2, 2, 2]], shape = (8, 8), type = oper, isherm = True\\begin{equation*}\\left(\\begin{array}{*{11}c}1.0 & 0.0 & 0.0 & 0.0 & 0.0 & 0.0 & 0.0 & 0.0\\\\0.0 & 1.0 & 0.0 & 0.0 & 0.0 & 0.0 & 0.0 & 0.0\\\\0.0 & 0.0 & 1.0 & 0.0 & 0.0 & 0.0 & 0.0 & 0.0\\\\0.0 & 0.0 & 0.0 & 1.0 & 0.0 & 0.0 & 0.0 & 0.0\\\\0.0 & 0.0 & 0.0 & 0.0 & 1.0 & 0.0 & 0.0 & 0.0\\\\0.0 & 0.0 & 0.0 & 0.0 & 0.0 & 1.0 & 0.0 & 0.0\\\\0.0 & 0.0 & 0.0 & 0.0 & 0.0 & 0.0 & 1.0 & 0.0\\\\0.0 & 0.0 & 0.0 & 0.0 & 0.0 & 0.0 & 0.0 & 1.0\\\\\\end{array}\\right)\\end{equation*}"
      ],
      "text/plain": [
       "Quantum object: dims = [[2, 2, 2], [2, 2, 2]], shape = (8, 8), type = oper, isherm = True\n",
       "Qobj data =\n",
       "[[1. 0. 0. 0. 0. 0. 0. 0.]\n",
       " [0. 1. 0. 0. 0. 0. 0. 0.]\n",
       " [0. 0. 1. 0. 0. 0. 0. 0.]\n",
       " [0. 0. 0. 1. 0. 0. 0. 0.]\n",
       " [0. 0. 0. 0. 1. 0. 0. 0.]\n",
       " [0. 0. 0. 0. 0. 1. 0. 0.]\n",
       " [0. 0. 0. 0. 0. 0. 1. 0.]\n",
       " [0. 0. 0. 0. 0. 0. 0. 1.]]"
      ]
     },
     "execution_count": 659,
     "metadata": {},
     "output_type": "execute_result"
    }
   ],
   "source": [
    "Qeye"
   ]
  },
  {
   "cell_type": "code",
   "execution_count": 660,
   "metadata": {},
   "outputs": [
    {
     "data": {
      "text/plain": [
       "array([-3.03124812, -1.36815091, -1.        , -0.66309722,  0.66309722,\n",
       "        1.        ,  1.36815091,  3.03124812])"
      ]
     },
     "execution_count": 660,
     "metadata": {},
     "output_type": "execute_result"
    }
   ],
   "source": [
    "eigvals"
   ]
  },
  {
   "cell_type": "code",
   "execution_count": 661,
   "metadata": {},
   "outputs": [],
   "source": [
    "def procool(Ham, E0, aa):\n",
    "    \n",
    "    return (-aa*(Ham-E0*Qeye)**2).expm()"
   ]
  },
  {
   "cell_type": "code",
   "execution_count": 662,
   "metadata": {},
   "outputs": [
    {
     "data": {
      "text/plain": [
       "0.0"
      ]
     },
     "execution_count": 662,
     "metadata": {},
     "output_type": "execute_result"
    }
   ],
   "source": [
    " tracedist(procool(Hamil, eigvals[7], 20), ket2dm(eigvecs[7]))"
   ]
  },
  {
   "cell_type": "code",
   "execution_count": 663,
   "metadata": {},
   "outputs": [
    {
     "data": {
      "text/plain": [
       "1.0000000072033828"
      ]
     },
     "execution_count": 663,
     "metadata": {},
     "output_type": "execute_result"
    }
   ],
   "source": [
    "fidelity(procool(Hamil, eigvals[0], 20), ket2dm(eigvecs[0]))"
   ]
  },
  {
   "cell_type": "code",
   "execution_count": 680,
   "metadata": {},
   "outputs": [
    {
     "data": {
      "text/latex": [
       "Quantum object: dims = [[2, 2, 2], [2, 2, 2]], shape = (8, 8), type = oper, isherm = True\\begin{equation*}\\left(\\begin{array}{*{11}c}0.500 & 1.0 & 1.0 & 0.0 & 1.0 & 0.0 & 0.0 & 0.0\\\\1.0 & 0.0 & 0.0 & 1.0 & 0.0 & 1.0 & 0.0 & 0.0\\\\1.0 & 0.0 & -0.500 & 1.0 & 0.0 & 0.0 & 1.0 & 0.0\\\\0.0 & 1.0 & 1.0 & 0.0 & 0.0 & 0.0 & 0.0 & 1.0\\\\1.0 & 0.0 & 0.0 & 0.0 & 0.0 & 1.0 & 1.0 & 0.0\\\\0.0 & 1.0 & 0.0 & 0.0 & 1.0 & -0.500 & 0.0 & 1.0\\\\0.0 & 0.0 & 1.0 & 0.0 & 1.0 & 0.0 & 0.0 & 1.0\\\\0.0 & 0.0 & 0.0 & 1.0 & 0.0 & 1.0 & 1.0 & 0.500\\\\\\end{array}\\right)\\end{equation*}"
      ],
      "text/plain": [
       "Quantum object: dims = [[2, 2, 2], [2, 2, 2]], shape = (8, 8), type = oper, isherm = True\n",
       "Qobj data =\n",
       "[[ 0.5  1.   1.   0.   1.   0.   0.   0. ]\n",
       " [ 1.   0.   0.   1.   0.   1.   0.   0. ]\n",
       " [ 1.   0.  -0.5  1.   0.   0.   1.   0. ]\n",
       " [ 0.   1.   1.   0.   0.   0.   0.   1. ]\n",
       " [ 1.   0.   0.   0.   0.   1.   1.   0. ]\n",
       " [ 0.   1.   0.   0.   1.  -0.5  0.   1. ]\n",
       " [ 0.   0.   1.   0.   1.   0.   0.   1. ]\n",
       " [ 0.   0.   0.   1.   0.   1.   1.   0.5]]"
      ]
     },
     "execution_count": 680,
     "metadata": {},
     "output_type": "execute_result"
    }
   ],
   "source": [
    "Hamil"
   ]
  },
  {
   "cell_type": "code",
   "execution_count": null,
   "metadata": {},
   "outputs": [],
   "source": []
  }
 ],
 "metadata": {
  "anaconda-cloud": {},
  "kernelspec": {
   "display_name": "Python 3",
   "language": "python",
   "name": "python3"
  },
  "language_info": {
   "codemirror_mode": {
    "name": "ipython",
    "version": 3
   },
   "file_extension": ".py",
   "mimetype": "text/x-python",
   "name": "python",
   "nbconvert_exporter": "python",
   "pygments_lexer": "ipython3",
   "version": "3.8.5"
  }
 },
 "nbformat": 4,
 "nbformat_minor": 1
}
